{
 "cells": [
  {
   "cell_type": "code",
   "execution_count": 1,
   "metadata": {},
   "outputs": [],
   "source": [
    "from Dronesimscape import Dronesimscape\n",
    "from simulink_gym import logger\n",
    "\n",
    "logger.setLevel(10)\n"
   ]
  },
  {
   "cell_type": "code",
   "execution_count": 2,
   "metadata": {},
   "outputs": [
    {
     "name": "stderr",
     "output_type": "stream",
     "text": [
      "INFO: Starting Matlab engine\n",
      "INFO: Adding components to Matlab path\n",
      "INFO: Creating simulation input object for model Dronesimscape.slx\n",
      "d:\\Users\\karl\\anaconda3\\envs\\pytorch2\\lib\\site-packages\\gym\\spaces\\box.py:127: UserWarning: \u001b[33mWARN: Box bound precision lowered by casting to float32\u001b[0m\n",
      "  logger.warn(f\"Box bound precision lowered by casting to {self.dtype}\")\n",
      "DEBUG: Setting paxis to 0.003942875191569328\n",
      "DEBUG: Setting vaxis to -0.22207847237586975\n",
      "DEBUG: Setting platformpose to 1.4222427606582642\n",
      "DEBUG: Setting px to -0.1591106802225113\n",
      "DEBUG: Setting vx to -0.7080763578414917\n",
      "DEBUG: Setting py to 0.03159569948911667\n",
      "DEBUG: Setting vy to -1.1302608251571655\n",
      "DEBUG: Setting pz to -1.1118813753128052\n",
      "DEBUG: Setting vz to 1.432485580444336\n",
      "DEBUG: Setting nRoll to -0.33395564556121826\n",
      "DEBUG: Setting nPitch to 0.7050259709358215\n",
      "DEBUG: Setting nYaw to 0.40237104892730713\n",
      "DEBUG: Setting Roll to -1.7216278314590454\n",
      "DEBUG: Setting Pitch to -0.2121305614709854\n",
      "DEBUG: Setting Yaw to 1.004892349243164\n",
      "DEBUG: Setting Yawrate to 1.0306990146636963\n"
     ]
    }
   ],
   "source": [
    "# Create training environment:\n",
    "env = Dronesimscape(stop_time=30, model_debug=False)\n"
   ]
  },
  {
   "cell_type": "code",
   "execution_count": 3,
   "metadata": {},
   "outputs": [
    {
     "name": "stderr",
     "output_type": "stream",
     "text": [
      "DEBUG: Setting paxis to -0.008684189170311218\n",
      "DEBUG: Setting vaxis to -0.029993488907153157\n",
      "DEBUG: Setting platformpose to -0.021845470853258456\n",
      "DEBUG: Setting px to -0.046342729734105685\n",
      "DEBUG: Setting vx to 0.012454405189092008\n",
      "DEBUG: Setting py to 0.026057532837544625\n",
      "DEBUG: Setting vy to 0.045642664723549164\n",
      "DEBUG: Setting pz to 0.01734433991496412\n",
      "DEBUG: Setting vz to 0.039229839252593254\n",
      "DEBUG: Setting nRoll to 0.04740621190756002\n",
      "DEBUG: Setting nPitch to -0.02233890387906308\n",
      "DEBUG: Setting nYaw to 0.02937671336666002\n",
      "DEBUG: Setting Roll to -0.04481550138271937\n",
      "DEBUG: Setting Pitch to -0.036748028912495005\n",
      "DEBUG: Setting Yaw to 0.00590115383497828\n",
      "DEBUG: Setting Yawrate to -0.005062604351987986\n",
      "INFO: recv_socket: Socket not connected, nothing to close\n",
      "INFO: send_socket: Socket not connected, nothing to close\n"
     ]
    }
   ],
   "source": [
    "# Reset environment:\n",
    "state = env.reset()\n"
   ]
  },
  {
   "cell_type": "code",
   "execution_count": 4,
   "metadata": {},
   "outputs": [],
   "source": [
    "# Execute single step in the environment:\n",
    "action = env.action_space.sample()\n",
    "# import numpy as np\n",
    "# action = np.array([100, 100, 100, 100, 100, 100, 100, 100, 100, 100])\n",
    "state, reward, done, info = env.step(action)\n"
   ]
  },
  {
   "cell_type": "code",
   "execution_count": 5,
   "metadata": {},
   "outputs": [
    {
     "data": {
      "text/plain": [
       "array([0.0000000e+00, 0.0000000e+00, 0.0000000e+00, 0.0000000e+00,\n",
       "       0.0000000e+00, 0.0000000e+00, 0.0000000e+00, 1.3000000e-01,\n",
       "       0.0000000e+00, 0.0000000e+00, 0.0000000e+00, 0.0000000e+00,\n",
       "       1.4964944e-16, 2.9439232e-17, 1.5707964e+00, 1.5707964e+00],\n",
       "      dtype=float32)"
      ]
     },
     "execution_count": 5,
     "metadata": {},
     "output_type": "execute_result"
    }
   ],
   "source": [
    "state"
   ]
  },
  {
   "cell_type": "code",
   "execution_count": 6,
   "metadata": {},
   "outputs": [],
   "source": [
    "# Test agent:\n",
    "trajectory = []\n",
    "sim_time = []\n",
    "actions = []\n",
    "done = False\n",
    "while not done:\n",
    "    action = env.action_space.sample()\n",
    "    state, reward, done, info = env.step(action)\n",
    "    trajectory.append(state)\n",
    "    sim_time.append(info[\"simulation time [s]\"])\n",
    "    actions.append(action)\n"
   ]
  },
  {
   "cell_type": "code",
   "execution_count": 10,
   "metadata": {},
   "outputs": [
    {
     "data": {
      "text/plain": [
       "30001"
      ]
     },
     "execution_count": 10,
     "metadata": {},
     "output_type": "execute_result"
    }
   ],
   "source": [
    "len(actions)"
   ]
  },
  {
   "cell_type": "code",
   "execution_count": 11,
   "metadata": {},
   "outputs": [],
   "source": [
    "# Stop the current episode:\n",
    "env.stop_simulation()\n"
   ]
  },
  {
   "cell_type": "code",
   "execution_count": 13,
   "metadata": {},
   "outputs": [
    {
     "name": "stderr",
     "output_type": "stream",
     "text": [
      "INFO: recv_socket: Socket not connected, nothing to close\n",
      "INFO: send_socket: Socket not connected, nothing to close\n"
     ]
    }
   ],
   "source": [
    "# Close environment:\n",
    "env.close()\n"
   ]
  }
 ],
 "metadata": {
  "kernelspec": {
   "display_name": "venv",
   "language": "python",
   "name": "python3"
  },
  "language_info": {
   "codemirror_mode": {
    "name": "ipython",
    "version": 3
   },
   "file_extension": ".py",
   "mimetype": "text/x-python",
   "name": "python",
   "nbconvert_exporter": "python",
   "pygments_lexer": "ipython3",
   "version": "3.10.6"
  },
  "orig_nbformat": 4,
  "vscode": {
   "interpreter": {
    "hash": "713853fc4eb821a20254f41f6276f3723ba35eac7488bde8c3eee95c0a6b7c43"
   }
  }
 },
 "nbformat": 4,
 "nbformat_minor": 2
}
