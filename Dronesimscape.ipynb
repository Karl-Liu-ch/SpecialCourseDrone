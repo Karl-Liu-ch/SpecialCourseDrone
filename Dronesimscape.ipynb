{
 "cells": [
  {
   "cell_type": "code",
   "execution_count": 1,
   "metadata": {},
   "outputs": [],
   "source": [
    "from Dronesimscape import Dronesimscape\n",
    "from simulink_gym import logger\n",
    "\n",
    "logger.setLevel(10)\n"
   ]
  },
  {
   "cell_type": "code",
   "execution_count": 2,
   "metadata": {},
   "outputs": [
    {
     "name": "stderr",
     "output_type": "stream",
     "text": [
      "INFO: Starting Matlab engine\n",
      "INFO: Adding components to Matlab path\n",
      "INFO: Creating simulation input object for model Dronesimscape.slx\n",
      "d:\\Users\\karl\\anaconda3\\envs\\pytorch2\\lib\\site-packages\\gym\\spaces\\box.py:127: UserWarning: \u001b[33mWARN: Box bound precision lowered by casting to float32\u001b[0m\n",
      "  logger.warn(f\"Box bound precision lowered by casting to {self.dtype}\")\n",
      "DEBUG: Setting paxis to 0.3474387228488922\n",
      "DEBUG: Setting vaxis to -0.7440555691719055\n",
      "DEBUG: Setting platformpose to -0.43922659754753113\n",
      "DEBUG: Setting px to 0.3398091197013855\n",
      "DEBUG: Setting vx to 0.6319018006324768\n",
      "DEBUG: Setting py to 0.24653249979019165\n",
      "DEBUG: Setting vy to 0.5291614532470703\n",
      "DEBUG: Setting pz to -0.3169774115085602\n",
      "DEBUG: Setting vz to 0.19149772822856903\n",
      "DEBUG: Setting nRoll to -1.3100996017456055\n",
      "DEBUG: Setting nPitch to 0.20575664937496185\n",
      "DEBUG: Setting nYaw to -1.0367505550384521\n",
      "DEBUG: Setting Roll to -2.2815799713134766\n",
      "DEBUG: Setting Pitch to 0.398604154586792\n",
      "DEBUG: Setting Yaw to 0.21976792812347412\n",
      "DEBUG: Setting Yawrate to -0.4492701292037964\n"
     ]
    }
   ],
   "source": [
    "# Create training environment:\n",
    "env = Dronesimscape(stop_time=30, model_debug=False)\n"
   ]
  },
  {
   "cell_type": "code",
   "execution_count": 3,
   "metadata": {},
   "outputs": [
    {
     "name": "stderr",
     "output_type": "stream",
     "text": [
      "DEBUG: Setting paxis to 0.0\n",
      "DEBUG: Setting vaxis to 0.0\n",
      "DEBUG: Setting platformpose to 0.0\n",
      "DEBUG: Setting px to 0.0\n",
      "DEBUG: Setting vx to 0.0\n",
      "DEBUG: Setting py to 0.0\n",
      "DEBUG: Setting vy to 0.0\n",
      "DEBUG: Setting pz to 0.0\n",
      "DEBUG: Setting vz to 0.0\n",
      "DEBUG: Setting nRoll to 0.0\n",
      "DEBUG: Setting nPitch to 0.0\n",
      "DEBUG: Setting nYaw to 0.0\n",
      "DEBUG: Setting Roll to 0.0\n",
      "DEBUG: Setting Pitch to 0.0\n",
      "DEBUG: Setting Yaw to 0.0\n",
      "DEBUG: Setting Yawrate to 0.0\n",
      "INFO: recv_socket: Socket not connected, nothing to close\n",
      "INFO: send_socket: Socket not connected, nothing to close\n",
      "Exception in thread sim thread:\n",
      "Traceback (most recent call last):\n",
      "  File \"d:\\Users\\karl\\anaconda3\\envs\\pytorch2\\lib\\threading.py\", line 1016, in _bootstrap_inner\n",
      "    self.run()\n",
      "  File \"d:\\Users\\karl\\anaconda3\\envs\\pytorch2\\lib\\threading.py\", line 953, in run\n",
      "    self._target(*self._args, **self._kwargs)\n",
      "  File \"d:\\Users\\karl\\anaconda3\\envs\\pytorch2\\lib\\site-packages\\matlab\\engine\\matlabengine.py\", line 71, in __call__\n",
      "    _stderr, feval=True).result()\n",
      "  File \"d:\\Users\\karl\\anaconda3\\envs\\pytorch2\\lib\\site-packages\\matlab\\engine\\futureresult.py\", line 67, in result\n",
      "    return self.__future.result(timeout)\n",
      "  File \"d:\\Users\\karl\\anaconda3\\envs\\pytorch2\\lib\\site-packages\\matlab\\engine\\fevalfuture.py\", line 82, in result\n",
      "    self._result = pythonengine.getFEvalResult(self._future,self._nargout, None, out=self._out, err=self._err)\n",
      "matlab.engine.MatlabExecutionError: Error due to multiple causes.\n",
      "\n"
     ]
    }
   ],
   "source": [
    "# Reset environment:\n",
    "state = env.reset()\n"
   ]
  },
  {
   "cell_type": "code",
   "execution_count": null,
   "metadata": {},
   "outputs": [],
   "source": [
    "# Execute single step in the environment:\n",
    "action = env.action_space.sample()\n",
    "state, reward, done, info = env.step(action)\n"
   ]
  },
  {
   "cell_type": "code",
   "execution_count": null,
   "metadata": {},
   "outputs": [],
   "source": [
    "# Test agent:\n",
    "trajectory = []\n",
    "sim_time = []\n",
    "actions = []\n",
    "done = False\n",
    "while not done:\n",
    "    action = env.action_space.sample()\n",
    "    state, reward, done, info = env.step(action)\n",
    "    trajectory.append(state)\n",
    "    sim_time.append(info[\"simulation time [s]\"])\n",
    "    actions.append(action)\n"
   ]
  },
  {
   "cell_type": "code",
   "execution_count": null,
   "metadata": {},
   "outputs": [],
   "source": [
    "# Stop the current episode:\n",
    "env.stop_simulation()\n"
   ]
  },
  {
   "cell_type": "code",
   "execution_count": null,
   "metadata": {},
   "outputs": [],
   "source": [
    "# Close environment:\n",
    "env.close()\n"
   ]
  }
 ],
 "metadata": {
  "kernelspec": {
   "display_name": "venv",
   "language": "python",
   "name": "python3"
  },
  "language_info": {
   "codemirror_mode": {
    "name": "ipython",
    "version": 3
   },
   "file_extension": ".py",
   "mimetype": "text/x-python",
   "name": "python",
   "nbconvert_exporter": "python",
   "pygments_lexer": "ipython3",
   "version": "3.10.6"
  },
  "orig_nbformat": 4,
  "vscode": {
   "interpreter": {
    "hash": "713853fc4eb821a20254f41f6276f3723ba35eac7488bde8c3eee95c0a6b7c43"
   }
  }
 },
 "nbformat": 4,
 "nbformat_minor": 2
}
